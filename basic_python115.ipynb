{
 "cells": [
  {
   "cell_type": "markdown",
   "id": "43abf507",
   "metadata": {},
   "source": [
    "# variable swap"
   ]
  },
  {
   "cell_type": "code",
   "execution_count": null,
   "id": "64381789",
   "metadata": {},
   "outputs": [],
   "source": [
    "x=int(input('Enter 1st number to swap'))\n",
    "\n",
    "y=int(input('Enter 2nd number to swap'))\n",
    "\n",
    "x=x+y\n",
    "\n",
    "y=x-y\n",
    "\n",
    "x=x-y\n",
    "\n",
    "print(f'after swap X is {x}')\n",
    "\n",
    "print(f'after swap Y is {y}')"
   ]
  },
  {
   "cell_type": "markdown",
   "id": "2de8e4cf",
   "metadata": {},
   "source": [
    "# Even / odd\n",
    "\n"
   ]
  },
  {
   "cell_type": "code",
   "execution_count": null,
   "id": "613720e3",
   "metadata": {},
   "outputs": [],
   "source": [
    "n=int(input())\n",
    "\n",
    "if n%2==0:\n",
    "    \n",
    "    print('Even')\n",
    "    \n",
    "else:\n",
    "    \n",
    "    print('Odd')\n",
    "    \n",
    "    "
   ]
  },
  {
   "cell_type": "markdown",
   "id": "8d942c7b",
   "metadata": {},
   "source": [
    "# String Reverse\n",
    "\n",
    "\n",
    "\n",
    "s1=input()\n"
   ]
  },
  {
   "cell_type": "code",
   "execution_count": null,
   "id": "73b179e8",
   "metadata": {},
   "outputs": [],
   "source": [
    "def reverse_string(s2):\n",
    "    \n",
    "    s3=''\n",
    "    \n",
    "    l=len(s2)\n",
    "    \n",
    "    for i in range(l-1,-1,-1):\n",
    "        \n",
    "        s4=s2[i]\n",
    "        \n",
    "        s3=s3+s4\n",
    "        \n",
    "    return s3\n",
    "\n",
    "\n",
    "\n",
    "\n",
    "\n",
    "s1=input()\n",
    "\n",
    "s4=reverse_string(s1)\n",
    "\n",
    "print(s4)\n"
   ]
  },
  {
   "cell_type": "markdown",
   "id": "f05dc4d3",
   "metadata": {},
   "source": [
    "# Type Conversion"
   ]
  },
  {
   "cell_type": "code",
   "execution_count": null,
   "id": "9b644553",
   "metadata": {},
   "outputs": [],
   "source": [
    "list_of_int_element=[234,756,1200,5436]\n",
    "\n",
    "list_of_string_element=[]\n",
    "\n",
    "for k in range(4):\n",
    "    \n",
    "    n=list_of_int_element[k]\n",
    "    \n",
    "    n=str(n)\n",
    "    \n",
    "    list_of_string_element.append(n)\n",
    "    \n",
    "list_of_int_element.clear()\n",
    "\n",
    "list_of_int_element=list_of_string_element\n",
    "  \n",
    "print(list_of_int_element)\n",
    "\n",
    "\n",
    "\n",
    "    "
   ]
  },
  {
   "cell_type": "markdown",
   "id": "4a7e940f",
   "metadata": {},
   "source": [
    "# Temperature Converter"
   ]
  },
  {
   "cell_type": "code",
   "execution_count": null,
   "id": "3a15de65",
   "metadata": {},
   "outputs": [],
   "source": [
    "## F = (9/5) °C+32\n",
    "\n",
    "c=float(input('Enter Temperature :'))\n",
    "\n",
    "f=((9/5)*c)+32\n",
    "\n",
    "print(f'Farenhite temperature:  {f}')"
   ]
  },
  {
   "cell_type": "markdown",
   "id": "7c15ca76",
   "metadata": {},
   "source": [
    "# Data Type Checker\n",
    "\n"
   ]
  },
  {
   "cell_type": "code",
   "execution_count": null,
   "id": "c868e840",
   "metadata": {},
   "outputs": [],
   "source": [
    "list=5.4\n",
    "\n",
    "print(type(list))\n",
    "\n",
    "list=70\n",
    "\n",
    "print(type(list))\n",
    "\n",
    "list=['data',8,6.8]\n",
    "\n",
    "print(type(list))\n",
    "\n",
    "thisdict = {\n",
    "  \"brand\": \"Ford\",\n",
    "  \"model\": \"Mustang\",\n",
    "  \"year\": 1964\n",
    "}\n",
    "\n",
    "print(type(thisdict))\n"
   ]
  },
  {
   "cell_type": "markdown",
   "id": "392793ce",
   "metadata": {},
   "source": [
    "# String Palindrome"
   ]
  },
  {
   "cell_type": "code",
   "execution_count": null,
   "id": "146e2dbd",
   "metadata": {},
   "outputs": [],
   "source": [
    "def reverse_string(s2):\n",
    "    \n",
    "    s3=''\n",
    "    \n",
    "    l=len(s2)\n",
    "    \n",
    "    for i in range(l-1,-1,-1):\n",
    "        \n",
    "        s4=s2[i]\n",
    "        \n",
    "        s3=s3+s4\n",
    "        \n",
    "    return s3\n",
    "\n",
    "\n",
    "\n",
    "\n",
    "\n",
    "s1=input()\n",
    "\n",
    "s4=reverse_string(s1)\n",
    "\n",
    "if s1==s4:\n",
    "    \n",
    "    print(\"Palindrome!\")\n",
    "    \n",
    "else:\n",
    "    \n",
    "     print(\"Not a Palindrome!\")\n"
   ]
  },
  {
   "cell_type": "markdown",
   "id": "15799e0b",
   "metadata": {},
   "source": [
    "# String Reversal with Slicing"
   ]
  },
  {
   "cell_type": "code",
   "execution_count": null,
   "id": "bd355f20",
   "metadata": {},
   "outputs": [],
   "source": [
    "\n",
    "def reverse_string(s2):\n",
    "    \n",
    "    s=s2[::-1]\n",
    "    \n",
    "    return s\n",
    "\n",
    "\n",
    "\n",
    "\n",
    "\n",
    "s1=input()\n",
    "\n",
    "s4=reverse_string(s1)\n",
    "\n",
    "print(s4)\n",
    "\n"
   ]
  },
  {
   "cell_type": "markdown",
   "id": "afb09947",
   "metadata": {},
   "source": [
    "# String Concatenation"
   ]
  },
  {
   "cell_type": "code",
   "execution_count": null,
   "id": "a46c2933",
   "metadata": {},
   "outputs": [],
   "source": [
    "s1=\"odd\"\n",
    "\n",
    "s2=\"even\"\n",
    "\n",
    "print(s1+\"&&\"+s2)\n",
    "\n",
    "print(s1+s2)\n",
    "\n"
   ]
  },
  {
   "cell_type": "markdown",
   "id": "42bcdc35",
   "metadata": {},
   "source": [
    "# Typecasting Challenge"
   ]
  },
  {
   "cell_type": "code",
   "execution_count": null,
   "id": "eaff5a8d",
   "metadata": {},
   "outputs": [],
   "source": [
    "##  `a = ‘100’`, `b = 25`, and `c = ‘10.5’`\n",
    "\n",
    "a='100'\n",
    "\n",
    "b=25\n",
    "\n",
    "c='10.5'\n",
    "\n",
    "a=int(a)\n",
    "\n",
    "b=a+b\n",
    "\n",
    "c=float(c)\n",
    "\n",
    "c=b-c\n",
    "\n",
    "s1= ' is the answer.'\n",
    "\n",
    "s2=str(c)\n",
    "\n",
    "s=s2+s1\n",
    "\n",
    "print(s)"
   ]
  },
  {
   "cell_type": "markdown",
   "id": "ab557c4f",
   "metadata": {},
   "source": [
    "# Positive, Negative, or Zero"
   ]
  },
  {
   "cell_type": "code",
   "execution_count": null,
   "id": "7a9214cb",
   "metadata": {},
   "outputs": [],
   "source": [
    "n=int(input())\n",
    "\n",
    "if n==0:\n",
    "    print('Zero.')\n",
    "    \n",
    "elif n>0:\n",
    "    print('Positive.')\n",
    "    \n",
    "else:\n",
    "    print('Negative.')\n",
    "    "
   ]
  },
  {
   "cell_type": "markdown",
   "id": "a0abf774",
   "metadata": {},
   "source": [
    "# Largest of Three Numbers:"
   ]
  },
  {
   "cell_type": "code",
   "execution_count": null,
   "id": "a5981c80",
   "metadata": {},
   "outputs": [],
   "source": [
    "n1=int(input())\n",
    "n2=int(input())\n",
    "n3=int(input())\n",
    "\n",
    "if n1>n2 and n1>n3:\n",
    "    print(n1)\n",
    "    \n",
    "elif n2>n1 and n2>n3:\n",
    "    print(n2)\n",
    "    \n",
    "else:\n",
    "    print(n3)"
   ]
  },
  {
   "cell_type": "markdown",
   "id": "e8d281ac",
   "metadata": {},
   "source": [
    "# Leap Year Checker"
   ]
  },
  {
   "cell_type": "code",
   "execution_count": null,
   "id": "4343c9f8",
   "metadata": {},
   "outputs": [],
   "source": [
    "y=int(input())\n",
    "\n",
    "if y%400==0:\n",
    "     print('Leap Year')\n",
    "    \n",
    "elif y%100==0:\n",
    "            print('not Leap Year')\n",
    "        \n",
    "elif y%4==0:\n",
    "            print('Leap Year')\n",
    "        \n",
    "else:\n",
    "        print('Not a Leap Year')\n"
   ]
  },
  {
   "cell_type": "markdown",
   "id": "1fba841a",
   "metadata": {},
   "source": [
    "# Grades Classification"
   ]
  },
  {
   "cell_type": "code",
   "execution_count": null,
   "id": "d27ae6a3",
   "metadata": {},
   "outputs": [],
   "source": [
    "n=int(input())\n",
    "\n",
    "if n>=90:\n",
    "    print('A+')\n",
    "    \n",
    "elif n>=80:\n",
    "    if n<=89:\n",
    "        print('A')\n",
    "        \n",
    "elif n>=70:\n",
    "    if n<=79:\n",
    "        print('B')\n",
    "        \n",
    "elif n>=60:\n",
    "    if n<=79:\n",
    "        print('C')\n",
    "        \n",
    "else:\n",
    "    print('F')"
   ]
  },
  {
   "cell_type": "markdown",
   "id": "37f9ad55",
   "metadata": {},
   "source": [
    "# Vowel or Consonant"
   ]
  },
  {
   "cell_type": "code",
   "execution_count": null,
   "id": "90c32fbf",
   "metadata": {},
   "outputs": [],
   "source": [
    "c=input()\n",
    "\n",
    "match c:\n",
    "    \n",
    "    case 'A':\n",
    "        print('Vowel')\n",
    "        \n",
    "    case 'E':\n",
    "        print('Vowel')\n",
    "        \n",
    "    case 'I':\n",
    "        print('Vowel')\n",
    "        \n",
    "    case 'O':\n",
    "        print('Vowel')\n",
    "        \n",
    "    case 'U':\n",
    "        print('Vowel')\n",
    "        \n",
    "    case 'a':\n",
    "        print('Vowel')\n",
    "\n",
    "    case 'e':\n",
    "        print('Vowel')\n",
    "\n",
    "    case 'i':\n",
    "        print('Vowel')\n",
    "\n",
    "    case 'o':\n",
    "        print('Vowel')\n",
    "\n",
    "    case 'u':\n",
    "        print('Vowel')\n",
    "\n",
    "    case _:\n",
    "        print('Consonant')\n",
    "\n",
    "    "
   ]
  },
  {
   "cell_type": "markdown",
   "id": "45ac953e",
   "metadata": {},
   "source": [
    "# Time Classification"
   ]
  },
  {
   "cell_type": "code",
   "execution_count": null,
   "id": "b4f600a5",
   "metadata": {},
   "outputs": [],
   "source": [
    "c=int(input())\n",
    "\n",
    "if c>=0 and c<=11:\n",
    "    print('Good Morning')\n",
    "    \n",
    "elif c>=12 and c<=18:\n",
    "    print('Good Afternoon')\n",
    "    \n",
    "elif c>=19 and c<=21:\n",
    "    print('Good Evening')\n",
    "    \n",
    "else:\n",
    "    print('Good Night')"
   ]
  },
  {
   "cell_type": "markdown",
   "id": "204e1b59",
   "metadata": {},
   "source": [
    "# Triangle Type Checker"
   ]
  },
  {
   "cell_type": "code",
   "execution_count": null,
   "id": "473159d7",
   "metadata": {},
   "outputs": [],
   "source": [
    "n1=int(input())\n",
    "\n",
    "n2=int(input())\n",
    "\n",
    "n3=int(input())\n",
    "\n",
    "if n1==n2 and n2==n3:\n",
    "    print('equilateral')\n",
    "    \n",
    "    \n",
    "elif n1!=n2 and n2!=n3 and n1!=n3:\n",
    "    print('scalene triangle')\n",
    "    \n",
    "else:\n",
    "    print('isosceles')\n",
    "\n"
   ]
  },
  {
   "cell_type": "markdown",
   "id": "a5b26989",
   "metadata": {},
   "source": [
    "# Quadratic Equation Solver"
   ]
  },
  {
   "cell_type": "code",
   "execution_count": null,
   "id": "d3848bf8",
   "metadata": {},
   "outputs": [],
   "source": [
    "a=int(input())\n",
    "b=int(input())\n",
    "c=int(input())\n",
    "\n",
    "r=(b*b)-(4*a*c)\n",
    "\n",
    "if r<0:\n",
    "    print('complex Number')\n",
    "    \n",
    "elif r==0:\n",
    "    print(-b/(2*a))\n",
    "else:\n",
    "    print(((-b)+r)/(2*a))\n",
    "    print(((-b)-r)/(2*a))\n",
    "    \n",
    "    \n",
    "    "
   ]
  },
  {
   "cell_type": "markdown",
   "id": "2abbce42",
   "metadata": {},
   "source": [
    "# Number Ranges"
   ]
  },
  {
   "cell_type": "code",
   "execution_count": null,
   "id": "2f923885",
   "metadata": {},
   "outputs": [],
   "source": [
    "n=int(input())\n",
    "\n",
    "if n>=0 and n<=50:\n",
    "    print(' range: 0-50')\n",
    "    \n",
    "elif n>=51 and n<=100:\n",
    "    print(' range: 51-100')\n",
    "    \n",
    "elif n>=101 and n<=150:\n",
    "    print(' range: 101-150')\n",
    "    \n",
    "else:\n",
    "    print(' Above 150')"
   ]
  },
  {
   "cell_type": "markdown",
   "id": "678d0ad5",
   "metadata": {},
   "source": [
    "# 20. Sum of N Numbers: "
   ]
  },
  {
   "cell_type": "code",
   "execution_count": null,
   "id": "485a68c6",
   "metadata": {},
   "outputs": [],
   "source": [
    "n=int(input())\n",
    "\n",
    "s=0\n",
    "\n",
    "for i in range(1,n+1):\n",
    "    s=s+i\n",
    "    \n",
    "print(s)"
   ]
  },
  {
   "cell_type": "markdown",
   "id": "9be190e1",
   "metadata": {},
   "source": [
    "# 21. Factorial Calculator:"
   ]
  },
  {
   "cell_type": "code",
   "execution_count": null,
   "id": "8af8e41f",
   "metadata": {},
   "outputs": [],
   "source": [
    "n=int(input())\n",
    "\n",
    "i=1\n",
    "\n",
    "while n>=1:\n",
    "    i=n*i\n",
    "    n-=1\n",
    "    \n",
    "print(i)"
   ]
  },
  {
   "cell_type": "markdown",
   "id": "0b99672a",
   "metadata": {},
   "source": [
    "# 22. Table of a Number: "
   ]
  },
  {
   "cell_type": "code",
   "execution_count": null,
   "id": "9895b512",
   "metadata": {},
   "outputs": [],
   "source": [
    "n=int(input())\n",
    "\n",
    "i=1\n",
    "\n",
    "for i in range(1,11):\n",
    "    \n",
    "    print(f\" {n} * {i} = {n*i} \")\n",
    "    \n",
    "    "
   ]
  },
  {
   "cell_type": "markdown",
   "id": "beabd0c6",
   "metadata": {},
   "source": [
    "# 23. Count Digits in a Number:"
   ]
  },
  {
   "cell_type": "code",
   "execution_count": null,
   "id": "b5f5cd0c",
   "metadata": {},
   "outputs": [],
   "source": [
    "n=int(input())\n",
    "c=0\n",
    "\n",
    "while n!=0:\n",
    "    \n",
    "    \n",
    "    i=n%10\n",
    "    c+=1\n",
    "    n=(n//10)\n",
    "    \n",
    "print(c)"
   ]
  },
  {
   "cell_type": "markdown",
   "id": "a9d6ca3d",
   "metadata": {},
   "source": [
    "# 24. Fibonacci Sequence: "
   ]
  },
  {
   "cell_type": "code",
   "execution_count": null,
   "id": "5a3224a5",
   "metadata": {},
   "outputs": [],
   "source": [
    "n=int(input())\n",
    "\n",
    "n1=0\n",
    "n2=1\n",
    "\n",
    "print(n1,end=\" \")\n",
    "\n",
    "print(n2,end=\" \")\n",
    "\n",
    "for i in range(n-2):\n",
    "    \n",
    "    n3=n1+n2\n",
    "    \n",
    "    print(n3,end=\" \")\n",
    "    \n",
    "    n1=n2\n",
    "    \n",
    "    n2=n3\n"
   ]
  },
  {
   "cell_type": "markdown",
   "id": "2ac475cc",
   "metadata": {},
   "source": [
    "# 25. Sum of Even Numbers: "
   ]
  },
  {
   "cell_type": "code",
   "execution_count": null,
   "id": "19ec6d9b",
   "metadata": {},
   "outputs": [],
   "source": [
    "n=int(input())\n",
    "\n",
    "s=0\n",
    "\n",
    "for i in range(n):\n",
    "    if i%2==0:\n",
    "        s=s+i\n",
    "        \n",
    "print(s)"
   ]
  },
  {
   "cell_type": "markdown",
   "id": "518311c2",
   "metadata": {},
   "source": [
    "# 26. Print Patterns: "
   ]
  },
  {
   "cell_type": "code",
   "execution_count": null,
   "id": "0d74bfbf",
   "metadata": {},
   "outputs": [],
   "source": [
    "n=int(input())\n",
    "\n",
    "for i in range(n):\n",
    "    for j in range(i+1):\n",
    "        print('#',end=' ')\n",
    "    print()"
   ]
  },
  {
   "cell_type": "code",
   "execution_count": null,
   "id": "9f4f15ea",
   "metadata": {},
   "outputs": [],
   "source": [
    "n=int(input())\n",
    "\n",
    "for i in range(n,-1,-1):\n",
    "    for j in range(i,-1,-1):\n",
    "        print('#',end=' ')\n",
    "    print()"
   ]
  },
  {
   "cell_type": "markdown",
   "id": "c2840cac",
   "metadata": {},
   "source": [
    "# 27.Prime Number Checker"
   ]
  },
  {
   "cell_type": "code",
   "execution_count": null,
   "id": "c18d1758",
   "metadata": {},
   "outputs": [],
   "source": [
    "import math\n",
    "\n",
    "n=int(input())\n",
    "\n",
    "sqr_n=math.sqrt(n)\n",
    "\n",
    "sqr_n=int(sqr_n)\n",
    "\n",
    "c=0\n",
    "\n",
    "for i in range(2,sqr_n+1):\n",
    "    \n",
    "    if n%i==0:\n",
    "        print(i)\n",
    "        c=1\n",
    "        print(f'{n} is not a prime number!')\n",
    "        \n",
    "if c==0:\n",
    "     print(f'{n} is a prime number!')\n",
    "\n"
   ]
  },
  {
   "cell_type": "markdown",
   "id": "34318b06",
   "metadata": {},
   "source": [
    "# 28. List Manipulation"
   ]
  },
  {
   "cell_type": "code",
   "execution_count": null,
   "id": "82939650",
   "metadata": {},
   "outputs": [],
   "source": [
    "sum=0\n",
    "\n",
    "avg=0\n",
    "\n",
    "min=0\n",
    "\n",
    "max=0\n",
    "\n",
    "lis=[11,45,5,62,28,39]\n",
    "\n",
    "min=lis[0]\n",
    "max=lis[0]\n",
    "\n",
    "for i in range(len(lis)):\n",
    "    sum=sum+lis[i]\n",
    "    \n",
    "    if lis[i]<min:\n",
    "        min=lis[i]\n",
    "        \n",
    "    if lis[i]>max:\n",
    "        max=lis[i]\n",
    "        \n",
    "print(f'Maximum is: {max}')\n",
    "\n",
    "print(f'Minimum is: {min}')\n",
    "\n",
    "avg=sum/len(lis)\n",
    "\n",
    "print(f'Average is: {avg}')\n",
    "    \n",
    "    "
   ]
  },
  {
   "cell_type": "markdown",
   "id": "dafdf07b",
   "metadata": {},
   "source": [
    "# 29. Reverse String: "
   ]
  },
  {
   "cell_type": "code",
   "execution_count": null,
   "id": "485661f4",
   "metadata": {},
   "outputs": [],
   "source": [
    "str=input()\n",
    "\n",
    "s1=''\n",
    "\n",
    "for i in range(len(str)-1,-1,-1):\n",
    "    \n",
    "    s2=str[i]\n",
    "    \n",
    "    s1=s1+s2\n",
    "    \n",
    "print(s1)\n",
    "    "
   ]
  },
  {
   "cell_type": "markdown",
   "id": "890179e0",
   "metadata": {},
   "source": [
    "# 30. Multiplication Table:"
   ]
  },
  {
   "cell_type": "code",
   "execution_count": null,
   "id": "36425841",
   "metadata": {},
   "outputs": [],
   "source": [
    "for i in range(1,11):\n",
    "    print()\n",
    "    print(f'Multiplication Table of {i}: ')\n",
    "    print()\n",
    "    for j in range(1,11):\n",
    "        \n",
    "        print(f'{i} * {j}  = {i*j}')\n",
    "        \n",
    "        \n",
    "    "
   ]
  },
  {
   "cell_type": "markdown",
   "id": "0630067d",
   "metadata": {},
   "source": [
    "# 31. Print Patterns"
   ]
  },
  {
   "cell_type": "code",
   "execution_count": null,
   "id": "9bb0f5d2",
   "metadata": {},
   "outputs": [],
   "source": [
    "for i in range(8):\n",
    "    \n",
    "    for j in range(i+1):\n",
    "        \n",
    "        print('*',end='')\n",
    "        \n",
    "    print()"
   ]
  },
  {
   "cell_type": "markdown",
   "id": "7ac3d99a",
   "metadata": {},
   "source": [
    "# 32. Matrix Multiplication: "
   ]
  },
  {
   "cell_type": "code",
   "execution_count": null,
   "id": "cc7353ca",
   "metadata": {},
   "outputs": [],
   "source": [
    "r=int(input('Input Rows:'))\n",
    "            \n",
    "c=int(input('Input Columns:'))\n",
    "\n",
    "matrix1=[]\n",
    "matrix2=[]\n",
    "\n",
    "row=[]\n",
    "\n",
    "for k in range(r):\n",
    "\n",
    "\n",
    "    for i in range(c):\n",
    "            \n",
    "            n1=int(input())\n",
    "\n",
    "            row.append(n1)\n",
    "        \n",
    "    matrix1.append(row)\n",
    "    row=[]\n",
    "\n",
    "row=[]\n",
    "\n",
    "r1=int(input('input Rows: '))\n",
    "c1=int(input('input Columns: '))\n",
    "\n",
    "for k in range(r1):\n",
    "\n",
    "\n",
    "    for i in range(c1):\n",
    "            \n",
    "            n1=int(input())\n",
    "\n",
    "            row.append(n1)\n",
    "        \n",
    "    matrix2.append(row)\n",
    "    row=[]\n",
    "    \n",
    "s=0\n",
    "m=0\n",
    "\n",
    "multiplied_matrix=[]\n",
    "\n",
    "temp=[]\n",
    "\n",
    "sum1=0\n",
    "\n",
    "\n",
    "r2=r1\n",
    "\n",
    "for k in range(r2):\n",
    "    \n",
    "    for i in range(r2):\n",
    "        \n",
    "        for j in range(r2):\n",
    "            \n",
    "            m=matrix1[k][j]*matrix2[j][i]\n",
    "            sum1=sum1+m\n",
    "            \n",
    "        temp.append(sum1)\n",
    "            \n",
    "        sum1=0\n",
    "        \n",
    "    multiplied_matrix.append(temp)\n",
    "    temp=[]\n",
    "    \n",
    "print(multiplied_matrix)\n",
    "\n",
    "\n",
    "            \n",
    "\n",
    "\n",
    "\n",
    "\n",
    "            "
   ]
  },
  {
   "cell_type": "markdown",
   "id": "eb0e7da3",
   "metadata": {},
   "source": [
    "# 33. Chessboard Pattern:"
   ]
  },
  {
   "cell_type": "code",
   "execution_count": null,
   "id": "2f803450",
   "metadata": {},
   "outputs": [],
   "source": [
    "for i in range(1,6):\n",
    "    for j in range(1,i+1):\n",
    "        print(i,end=\"\")\n",
    "    print()"
   ]
  },
  {
   "cell_type": "markdown",
   "id": "c6ad449b",
   "metadata": {},
   "source": [
    "# 34. List Sum: "
   ]
  },
  {
   "cell_type": "code",
   "execution_count": null,
   "id": "d6b5de80",
   "metadata": {},
   "outputs": [],
   "source": [
    "tlist_n=[]\n",
    "\n",
    "n=5\n",
    "s=0\n",
    "\n",
    "for i in range(n):\n",
    "    \n",
    "    n1=int(input())\n",
    "    tlist_n.append(n1)\n",
    "    s+=n1\n",
    "    \n",
    "print(s)\n",
    "\n"
   ]
  },
  {
   "cell_type": "markdown",
   "id": "cba2ea38",
   "metadata": {},
   "source": [
    "# 35. List Average: "
   ]
  },
  {
   "cell_type": "code",
   "execution_count": null,
   "id": "0cb8e9ed",
   "metadata": {},
   "outputs": [],
   "source": [
    "tlist_n=[]\n",
    "avg=0\n",
    "\n",
    "n=5\n",
    "s=0\n",
    "\n",
    "for i in range(n):\n",
    "    \n",
    "    n1=int(input())\n",
    "    tlist_n.append(n1)\n",
    "    s+=n1\n",
    "avg=s/n\n",
    "    \n",
    "print(avg)"
   ]
  },
  {
   "cell_type": "markdown",
   "id": "c28d73c1",
   "metadata": {},
   "source": [
    "# 36. List Max and Min: "
   ]
  },
  {
   "cell_type": "code",
   "execution_count": null,
   "id": "3ca61de8",
   "metadata": {},
   "outputs": [],
   "source": [
    "tlist_n=[]\n",
    "avg=0\n",
    "\n",
    "n=5\n",
    "s=0\n",
    "\n",
    "max=0\n",
    "\n",
    "min=2433446644\n",
    "\n",
    "for i in range(n):\n",
    "    \n",
    "    n1=int(input())\n",
    "    tlist_n.append(n1)\n",
    "    \n",
    "    if tlist_n[i]>max:\n",
    "        max=tlist_n[i]\n",
    "        \n",
    "    if tlist_n[i]<min:\n",
    "        min=tlist_n[i]\n",
    "    s+=n1\n",
    "avg=s/n\n",
    "    \n",
    "print(f'Average:{avg}')\n",
    "print(f'Minimum:{min}')\n",
    "print(f'Maximum:{max}')\n",
    "\n",
    "print(min)\n",
    "print(max)"
   ]
  },
  {
   "cell_type": "markdown",
   "id": "05e63a2f",
   "metadata": {},
   "source": [
    "# 37. List Sorting:"
   ]
  },
  {
   "cell_type": "code",
   "execution_count": null,
   "id": "e619d669",
   "metadata": {},
   "outputs": [],
   "source": [
    "tlist_n=[]\n",
    "\n",
    "n=5\n",
    "\n",
    "for i in range(n):\n",
    "    \n",
    "    n1=int(input())\n",
    "    tlist_n.append(n1)\n",
    "    \n",
    "for i in range(n):\n",
    "    for j in range(n):\n",
    "        if tlist_n[i]<tlist_n[j]:\n",
    "            t=tlist_n[i]\n",
    "            tlist_n[i]=tlist_n[j]\n",
    "            tlist_n[j]=t\n",
    "            \n",
    "print(tlist_n)\n",
    "            \n",
    "    \n",
    "\n",
    "    \n"
   ]
  },
  {
   "cell_type": "markdown",
   "id": "332fab9d",
   "metadata": {},
   "source": [
    "# 38. List Filtering:"
   ]
  },
  {
   "cell_type": "code",
   "execution_count": null,
   "id": "5a533874",
   "metadata": {},
   "outputs": [],
   "source": [
    "filter=[12,45,60,23,44,99]\n",
    "emp=[]\n",
    "\n",
    "for i in range(len(filter)):\n",
    "    if filter[i]%2==0:\n",
    "        emp.append( filter[i])\n",
    "        \n",
    "print(emp)\n",
    "        "
   ]
  },
  {
   "cell_type": "markdown",
   "id": "f727007d",
   "metadata": {},
   "source": [
    "# 39. List Reversal: "
   ]
  },
  {
   "cell_type": "code",
   "execution_count": null,
   "id": "950bf0f9",
   "metadata": {},
   "outputs": [],
   "source": [
    "reverse_list=[34,'MIT','Havard',203,'@',[1,'#',5]]\n",
    "\n",
    "list=[]\n",
    "\n",
    "for k in range(len(reverse_list)-1,-1,-1):\n",
    "    list.append(reverse_list[k])\n",
    "    \n",
    "print(list)"
   ]
  },
  {
   "cell_type": "markdown",
   "id": "6ab0c5ae",
   "metadata": {},
   "source": [
    "# 40. List Manipulation:"
   ]
  },
  {
   "cell_type": "code",
   "execution_count": null,
   "id": "9cc76e72",
   "metadata": {},
   "outputs": [],
   "source": [
    "l1=[1,4,26,17,20]\n",
    "l2=[1,35,9,20,4]\n",
    "l3=[]\n",
    "\n",
    "for s in l1:\n",
    "    if s in l2:\n",
    "        l3.append(s)\n",
    "        \n",
    "print(l3)"
   ]
  },
  {
   "cell_type": "markdown",
   "id": "0b2f051d",
   "metadata": {},
   "source": [
    "# 41. List Element Count: "
   ]
  },
  {
   "cell_type": "code",
   "execution_count": null,
   "id": "387a8303",
   "metadata": {},
   "outputs": [],
   "source": [
    "l=['@',33,'*','@','@',33,55,11,20,95]\n",
    "\n",
    "rep=[]\n",
    "\n",
    "for s in l:\n",
    "    r=s\n",
    "    c=0\n",
    "    \n",
    "    if r not in rep:\n",
    "    \n",
    "        for i in range(len(l)):\n",
    "            if r==l[i]:\n",
    "                c+=1\n",
    "            \n",
    "        if c>1:\n",
    "            print(f'{r} is {c} times in the list')\n",
    "            rep.append(r)\n",
    "\n",
    "        "
   ]
  },
  {
   "cell_type": "markdown",
   "id": "b827be65",
   "metadata": {},
   "source": [
    "# 42."
   ]
  },
  {
   "cell_type": "code",
   "execution_count": null,
   "id": "e196d00a",
   "metadata": {},
   "outputs": [],
   "source": [
    "t=[1,3,3,4,5,5,5,6,7,8,8,8,10,11]\n",
    "\n",
    "r=[]\n",
    "\n",
    "[r.append(x) for x in t if x not in r]\n",
    "\n",
    "r"
   ]
  },
  {
   "cell_type": "code",
   "execution_count": null,
   "id": "8c56ae17",
   "metadata": {},
   "outputs": [],
   "source": []
  },
  {
   "cell_type": "markdown",
   "id": "99f40112",
   "metadata": {},
   "source": [
    "# 43. List Comprehension:"
   ]
  },
  {
   "cell_type": "code",
   "execution_count": null,
   "id": "bf2426f2",
   "metadata": {},
   "outputs": [],
   "source": [
    "number_list = [i**2 for i in range(10)]\n",
    "print(number_list)\n"
   ]
  },
  {
   "cell_type": "markdown",
   "id": "402dd493",
   "metadata": {},
   "source": [
    "# 44. Matrix Addition: "
   ]
  },
  {
   "cell_type": "code",
   "execution_count": null,
   "id": "d78a258a",
   "metadata": {},
   "outputs": [],
   "source": [
    "\n",
    "matrix1=[]\n",
    "matrix2=[]\n",
    "\n",
    "row=[]\n",
    "\n",
    "r1=int(input('input Rows: '))\n",
    "c1=int(input('input Columns: '))\n",
    "\n",
    "for k in range(r1):\n",
    "\n",
    "\n",
    "    for i in range(c1):\n",
    "            \n",
    "            n1=int(input())\n",
    "\n",
    "            row.append(n1)\n",
    "        \n",
    "    matrix2.append(row)\n",
    "    row=[]\n",
    "    \n",
    "    \n",
    "\n",
    "r1=int(input('input Rows: '))\n",
    "c1=int(input('input Columns: '))\n",
    "\n",
    "for i in range(r1):\n",
    "\n",
    "\n",
    "    for j in range(c1):\n",
    "            \n",
    "            n1=int(input())\n",
    "\n",
    "            row.append(n1)\n",
    "        \n",
    "    matrix1.append(row)\n",
    "    row=[]\n",
    "    \n",
    "    \n",
    "addition_matrix=[]\n",
    "\n",
    "   \n",
    "\n",
    "s=0\n",
    "m=0\n",
    "\n",
    "\n",
    "for i in range(r1):\n",
    "    \n",
    "    for j in range(r1):\n",
    "            \n",
    "        m=matrix1[i][j]+matrix2[i][j]\n",
    "        addition_matrix.append(m)\n",
    "        \n",
    "        print(m,end=' ')\n",
    "        \n",
    "    print('\\n')\n",
    "   \n",
    "        \n",
    "    \n",
    "\n"
   ]
  },
  {
   "cell_type": "markdown",
   "id": "5ab740e0",
   "metadata": {},
   "source": [
    "# 45. Flatten Nested List: "
   ]
  },
  {
   "cell_type": "code",
   "execution_count": null,
   "id": "65ffd4a8",
   "metadata": {},
   "outputs": [],
   "source": [
    "nested_list = [['a'], ['n', 'i'], ['k', 'a', '@', 'g','m'],['a','i','l'],['.','com']]\n",
    "\n",
    "flat_list = []\n",
    "\n",
    "for sublist in nested_list:\n",
    "    for element in sublist:\n",
    "        flat_list.append(element)\n",
    "\n",
    "print(flat_list)"
   ]
  },
  {
   "cell_type": "markdown",
   "id": "aeae91f3",
   "metadata": {},
   "source": [
    "# 46. List Element Frequency"
   ]
  },
  {
   "cell_type": "code",
   "execution_count": null,
   "id": "09b9f52f",
   "metadata": {},
   "outputs": [],
   "source": [
    "import pandas as pd\n",
    "\n",
    "Data = [['a', 'b'], ['b', 'c', 'a'], ['h', 'y', 'g'], ['a', 'c', 'y', 'b'], ['a', 'h']]\n",
    "\n",
    "pd.Series([d for sub in Data for d in sub]).value_counts()"
   ]
  },
  {
   "cell_type": "markdown",
   "id": "097866b7",
   "metadata": {},
   "source": [
    "# 47"
   ]
  },
  {
   "cell_type": "code",
   "execution_count": null,
   "id": "0803e18b",
   "metadata": {},
   "outputs": [],
   "source": [
    "matrix=[[1,2],[2,3],[3,4]]\n",
    "\n",
    "transpose=[[0,0,0],[0,0,0]]\n",
    "\n",
    "for i in range(len(matrix)):\n",
    "    \n",
    "    for j in range(len(matrix[0])):\n",
    "        transpose[j][i]=matrix[i][j]\n",
    "        \n",
    "print( transpose)\n",
    "        "
   ]
  },
  {
   "cell_type": "code",
   "execution_count": null,
   "id": "7f18e501",
   "metadata": {},
   "outputs": [],
   "source": []
  },
  {
   "cell_type": "markdown",
   "id": "0b14b44d",
   "metadata": {},
   "source": [
    "# 48"
   ]
  },
  {
   "cell_type": "code",
   "execution_count": null,
   "id": "0d89249b",
   "metadata": {},
   "outputs": [],
   "source": [
    "list1=[[10,30,65],\n",
    "      \n",
    "      [40,67,88],\n",
    "      \n",
    "      [123,276,345]]\n",
    "\n",
    "\n",
    "list2=[[100,307,615],\n",
    "      \n",
    "      [540,617,88],\n",
    "      \n",
    "      [13,26,382]]\n",
    "\n",
    "r=list(map(lambda x, y:x + y , list1,list2 ))\n",
    "\n",
    "print()\n",
    "\n",
    "r"
   ]
  },
  {
   "cell_type": "code",
   "execution_count": null,
   "id": "8d0959ee",
   "metadata": {},
   "outputs": [],
   "source": []
  },
  {
   "cell_type": "markdown",
   "id": "c5054550",
   "metadata": {},
   "source": [
    "# 49. Tuple Concatenation"
   ]
  },
  {
   "cell_type": "code",
   "execution_count": null,
   "id": "972891ae",
   "metadata": {},
   "outputs": [],
   "source": [
    "chips = ('R', '#'),  \n",
    "beef = (27, 47),  \n",
    "  \n",
    "\n",
    "print(\"Chips : \" + str(chips))  \n",
    "print(\"Beef : \" + str(beef))  \n",
    "  \n",
    "  \n",
    "combine = (chips, ) + (beef, )  \n",
    "  \n",
    "\n",
    "print(\"Tuples after Concatenating : \" + str(combine))  "
   ]
  },
  {
   "cell_type": "markdown",
   "id": "c933a905",
   "metadata": {},
   "source": [
    "# 50. Tuple Unpacking"
   ]
  },
  {
   "cell_type": "code",
   "execution_count": null,
   "id": "391c913a",
   "metadata": {},
   "outputs": [],
   "source": [
    "\n",
    "\n",
    "\n",
    "fruits = (\"x\", \"y\", \"z\")\n",
    "\n",
    "(sky, sea, mountain) = fruits\n",
    "\n",
    "print(sky)\n",
    "print(sea)\n",
    "print(mountain)\n",
    "\n",
    "\n",
    " "
   ]
  },
  {
   "cell_type": "markdown",
   "id": "fff4ea5c",
   "metadata": {},
   "source": [
    "# 51. Tuple Sorting"
   ]
  },
  {
   "cell_type": "code",
   "execution_count": null,
   "id": "882a86f0",
   "metadata": {},
   "outputs": [],
   "source": [
    "tuple_sort= (57, 9, 120, 11)  \n",
    "list(tuple_sort).sort()   \n",
    "print(tuple_sort)  \n"
   ]
  },
  {
   "cell_type": "markdown",
   "id": "919fa57b",
   "metadata": {},
   "source": [
    "# 52. Tuple Frequency Count"
   ]
  },
  {
   "cell_type": "code",
   "execution_count": null,
   "id": "188d4588",
   "metadata": {},
   "outputs": [],
   "source": [
    "from collections import defaultdict\n",
    "\n",
    "freq_count = (14, 5, 4, 88, 6, 6, 88, 5, 14)\n",
    "\n",
    "new_list = defaultdict(int)\n",
    "\n",
    "for freq in freq_count:\n",
    "     \n",
    "    new_list[freq] += 1\n",
    " \n",
    "print(new_list)"
   ]
  },
  {
   "cell_type": "markdown",
   "id": "295a5e54",
   "metadata": {},
   "source": [
    "# 53. Tuple to List"
   ]
  },
  {
   "cell_type": "code",
   "execution_count": null,
   "id": "4ee6ff4c",
   "metadata": {},
   "outputs": [],
   "source": [
    "\n",
    "t = (0, 2, 4, 6, 8)\n",
    "t_to_list = list(t)\n",
    "\n",
    "print(t_to_list)\n",
    "\n",
    "print(type(t_to_list))\n",
    "\n",
    "\n"
   ]
  },
  {
   "cell_type": "markdown",
   "id": "1fde155c",
   "metadata": {},
   "source": [
    "# 54. Tuple Reversal"
   ]
  },
  {
   "cell_type": "code",
   "execution_count": null,
   "id": "8a411324",
   "metadata": {},
   "outputs": [],
   "source": [
    "def Reverse_tuple(t):\n",
    "    new_t = t[::-1]\n",
    "    return new_t\n",
    "\n",
    "t = ('a','n','i','k','@','g','m','a','i','l','.','c','o','m')\n",
    "\n",
    "print(Reverse_tuple(t))\n",
    "\n"
   ]
  },
  {
   "cell_type": "markdown",
   "id": "adfb32cd",
   "metadata": {},
   "source": [
    "# 55. Tuple Slicing"
   ]
  },
  {
   "cell_type": "code",
   "execution_count": null,
   "id": "d0f2d18f",
   "metadata": {},
   "outputs": [],
   "source": [
    "tuples = ('Spark','Python','Pandas','Pyspark','Java','Hadoop')\n",
    "result = tuples[1:4]\n",
    "result\n"
   ]
  },
  {
   "cell_type": "code",
   "execution_count": null,
   "id": "abbc3ab9",
   "metadata": {},
   "outputs": [],
   "source": [
    "tuples = ('Spark','Python','Pandas','Pyspark','Java','Hadoop') \n",
    "begin = 2 \n",
    "\n",
    "end = 5\n",
    "\n",
    "s = slice(begin, end) \n",
    "slice_t = tuples[s]\n",
    "\n",
    "slice_t"
   ]
  },
  {
   "cell_type": "code",
   "execution_count": null,
   "id": "4810134d",
   "metadata": {},
   "outputs": [],
   "source": []
  },
  {
   "cell_type": "markdown",
   "id": "1c250652",
   "metadata": {},
   "source": [
    "# 56. Tuple Operations"
   ]
  },
  {
   "cell_type": "code",
   "execution_count": null,
   "id": "029c54ea",
   "metadata": {},
   "outputs": [],
   "source": [
    "t1=(2,6,12,5)\n",
    "\n",
    "t2=(4,7,1,3)\n",
    "\n",
    "\n",
    "add = tuple(map(lambda i, j: i + j,t1, t2))\n",
    "\n",
    "\n",
    "print(\"Resultant tuple after addition : \" + str(add))\n",
    "\n",
    "sub = tuple(map(lambda i, j: i - j,t1, t2))\n",
    "\n",
    "print(\"Resultant tuple after subtraction : \" + str(sub))\n",
    "\n",
    "\n",
    "mul = tuple(map(lambda i, j: i * j,t1, t2))\n",
    "\n",
    "print(\"Resultant tuple after multiplication : \" + str(mul))"
   ]
  },
  {
   "cell_type": "markdown",
   "id": "958f417b",
   "metadata": {},
   "source": [
    "# 57. Tuple Membership Test"
   ]
  },
  {
   "cell_type": "code",
   "execution_count": null,
   "id": "e888e106",
   "metadata": {},
   "outputs": [],
   "source": []
  },
  {
   "cell_type": "code",
   "execution_count": null,
   "id": "40bff5b3",
   "metadata": {},
   "outputs": [],
   "source": [
    "t=(10,4,5,6,8)\n",
    "\n",
    "item=66\n",
    "\n",
    "f=[i for i in t if i==item]\n",
    "\n",
    "print([\"yes\" if f else \"no\"])\n",
    "\n"
   ]
  },
  {
   "cell_type": "markdown",
   "id": "7a8577c4",
   "metadata": {},
   "source": [
    "# 58"
   ]
  },
  {
   "cell_type": "code",
   "execution_count": null,
   "id": "c1be83a6",
   "metadata": {},
   "outputs": [],
   "source": []
  },
  {
   "cell_type": "code",
   "execution_count": null,
   "id": "80b71638",
   "metadata": {},
   "outputs": [],
   "source": [
    "name=\"John\"\n",
    "\n",
    "department=\"CSE\"\n",
    "\n",
    "school=\"CUET\"\n",
    "\n",
    "persna_info=(name,department,school)\n",
    "\n",
    "persna_info"
   ]
  },
  {
   "cell_type": "markdown",
   "id": "ae74b472",
   "metadata": {},
   "source": [
    "# 59 nested element"
   ]
  },
  {
   "cell_type": "code",
   "execution_count": null,
   "id": "de358073",
   "metadata": {},
   "outputs": [],
   "source": [
    "num=[1,2,[3,[5,6]],8]\n",
    "\n",
    "print(num[2])\n",
    "\n",
    "num.append([23,85,2])\n",
    "\n",
    "num"
   ]
  },
  {
   "cell_type": "markdown",
   "id": "6117c284",
   "metadata": {},
   "source": [
    "# 60. nested ist fattening"
   ]
  },
  {
   "cell_type": "code",
   "execution_count": null,
   "id": "094f52b0",
   "metadata": {},
   "outputs": [],
   "source": []
  },
  {
   "cell_type": "code",
   "execution_count": null,
   "id": "8e648110",
   "metadata": {},
   "outputs": [],
   "source": [
    "lst=[[13],[2,3],[4,5,67,8]]\n",
    "\n",
    "flat_lst=sum(lst,[])\n",
    "\n",
    "\n",
    "flat_lst"
   ]
  },
  {
   "cell_type": "markdown",
   "id": "4d20b1a6",
   "metadata": {},
   "source": [
    "# 61.nested list sorting"
   ]
  },
  {
   "cell_type": "code",
   "execution_count": null,
   "id": "77740f44",
   "metadata": {},
   "outputs": [],
   "source": [
    "init_s=[[3,2],[1,3,22],[2,4,3,66,],[44,2],[8,4,7,21]]\n",
    "\n",
    "rs= sorted(init_s,key=len)\n",
    "\n",
    "print(\"sorted list\",str(rs))\n"
   ]
  },
  {
   "cell_type": "markdown",
   "id": "12d2431f",
   "metadata": {},
   "source": [
    "# 62"
   ]
  },
  {
   "cell_type": "code",
   "execution_count": null,
   "id": "c27fea78",
   "metadata": {},
   "outputs": [],
   "source": [
    "c_dnt=[(3,5),(1,4),(2,7)]\n",
    "\n",
    "c_dnt\n",
    "\n",
    "y=[dc[1] for dc in c_dnt]\n",
    "\n",
    "\n",
    "x=[dc[0] for dc in c_dnt]\n",
    "\n",
    "\n",
    "\n",
    "print('X_Coordinate',x)\n",
    "\n",
    "print('Y_Coordinate',y)\n",
    "\n"
   ]
  },
  {
   "cell_type": "markdown",
   "id": "3468e93d",
   "metadata": {},
   "source": [
    "# 63"
   ]
  },
  {
   "cell_type": "code",
   "execution_count": null,
   "id": "2ac4d0cf",
   "metadata": {},
   "outputs": [],
   "source": [
    "\n",
    "matrix = [[356, 704], [84,213], [94, 450]]\n",
    "\n",
    "transpose = [[0, 0, 0], [0, 0, 0]]\n",
    "\n",
    "for i in range (len (matrix)):\n",
    "\n",
    "              for j in range (len (matrix[0])):\n",
    "\n",
    "                             transpose [j][i] = matrix [i][j]\n",
    "\n",
    "for r in transpose :\n",
    "\n",
    "              print (r)\n"
   ]
  },
  {
   "cell_type": "markdown",
   "id": "5b28c05e",
   "metadata": {},
   "source": [
    "# 64"
   ]
  },
  {
   "cell_type": "code",
   "execution_count": null,
   "id": "723da411",
   "metadata": {},
   "outputs": [],
   "source": [
    "matrix=[[1,4,5],[7,2],[6,3,8,5]]\n",
    "\n",
    "fm=[]\n",
    "\n",
    "for sl in matrix:\n",
    "    for v in sl:\n",
    "        fm.append(v)\n",
    "        \n",
    "print(fm)"
   ]
  },
  {
   "cell_type": "code",
   "execution_count": null,
   "id": "09e8aa12",
   "metadata": {},
   "outputs": [],
   "source": []
  },
  {
   "cell_type": "markdown",
   "id": "20e9b262",
   "metadata": {},
   "source": [
    "# 65"
   ]
  },
  {
   "cell_type": "code",
   "execution_count": null,
   "id": "080b1c43",
   "metadata": {},
   "outputs": [],
   "source": [
    "m=[[1,4,5],[7,2],[6,3,8,5]]\n",
    "\n",
    "fm=[]\n",
    "\n",
    "even=0\n",
    "\n",
    "odd=0\n",
    "\n",
    "\n",
    "for sl in m:\n",
    "    for v in sl:\n",
    "        if v%2==0:\n",
    "            even+=1\n",
    "        else:\n",
    "            odd+=1\n",
    "        \n",
    "print(even)\n",
    "\n",
    "print(odd)"
   ]
  },
  {
   "cell_type": "markdown",
   "id": "bd5c3864",
   "metadata": {},
   "source": [
    "# 66"
   ]
  },
  {
   "cell_type": "code",
   "execution_count": null,
   "id": "94fde2e5",
   "metadata": {},
   "outputs": [],
   "source": [
    "ss=[[34,7,2],[32,80],[43,78,8]]\n",
    "\n",
    "s=[]\n",
    "\n",
    "for n in ss:\n",
    "    s.append(max(n))\n",
    "    \n",
    "print(max(s))"
   ]
  },
  {
   "cell_type": "markdown",
   "id": "888ce046",
   "metadata": {},
   "source": [
    "# 67"
   ]
  },
  {
   "cell_type": "code",
   "execution_count": 5,
   "id": "05d0c696",
   "metadata": {},
   "outputs": [
    {
     "name": "stdout",
     "output_type": "stream",
     "text": [
      "principal_diagonal: 21\n",
      "secondary_diagonal: 41\n"
     ]
    }
   ],
   "source": [
    "\n",
    "def DiagonalSums(mat, n):\n",
    " \n",
    "    principal_diagonal=0\n",
    "    secondary_diagonal = 0\n",
    "    \n",
    "    for i in range(0, n):\n",
    "        \n",
    "        for j in range(0, n):\n",
    "            \n",
    "            if (i == j):\n",
    "                principal_diagonal+= mat[i][j]\n",
    " \n",
    "    \n",
    "            if ((i + j) == (n - 1)):\n",
    "                secondary_diagonal += mat[i][j]\n",
    "                \n",
    "    print('principal_diagonal:',principal_diagonal)\n",
    "    print('secondary_diagonal:',secondary_diagonal)\n",
    "                \n",
    "\n",
    "squarematrix = [[ 4, 9, 3, 7 ],\n",
    "                [ 0, 6, 7, 2 ],\n",
    "                [ 11, 4, 3, 7 ],\n",
    "                [ 23, 6, 3, 8 ]]\n",
    "\n",
    "\n",
    "DiagonalSums(squarematrix, 4)\n",
    "\n"
   ]
  },
  {
   "cell_type": "markdown",
   "id": "e9b05824",
   "metadata": {},
   "source": [
    "# 68"
   ]
  },
  {
   "cell_type": "code",
   "execution_count": null,
   "id": "481041f5",
   "metadata": {},
   "outputs": [],
   "source": [
    "m=[[1,4,5],[7,2],[6,3,8,5]]\n",
    "\n",
    "emnt=31\n",
    "i=0\n",
    "j=0\n",
    "f=67\n",
    "\n",
    "for sl in m:\n",
    "    for v in sl:\n",
    "        if v==emnt:\n",
    "                print('fd')\n",
    "                f=22\n",
    "                \n",
    "if f==67:\n",
    "    print('not found')"
   ]
  },
  {
   "cell_type": "markdown",
   "id": "48f3fd3c",
   "metadata": {},
   "source": [
    "# 69"
   ]
  },
  {
   "cell_type": "code",
   "execution_count": null,
   "id": "96d3dd8a",
   "metadata": {},
   "outputs": [],
   "source": [
    "sy=['arab','india','japan','arab','syria','peru','libia']\n",
    "\n",
    "usy=set(sy)\n",
    "\n",
    "print(usy)"
   ]
  },
  {
   "cell_type": "markdown",
   "id": "c7bc1f91",
   "metadata": {},
   "source": [
    "# 70"
   ]
  },
  {
   "cell_type": "code",
   "execution_count": null,
   "id": "e9a7a9a3",
   "metadata": {},
   "outputs": [],
   "source": [
    "s1={2,6,8,4}\n",
    "s2={1,2,6,3}\n",
    "\n",
    "s3=s1.intersection(s2)\n",
    "\n",
    "print(s3)\n",
    "\n"
   ]
  },
  {
   "cell_type": "markdown",
   "id": "f3ae3041",
   "metadata": {},
   "source": [
    "# 71"
   ]
  },
  {
   "cell_type": "code",
   "execution_count": null,
   "id": "d82dc7d2",
   "metadata": {},
   "outputs": [],
   "source": [
    "s1={'python','java','c'}\n",
    "\n",
    "s2={'c++','python'}\n",
    "\n",
    "s=s1.union(s2)\n",
    "\n",
    "print(s)"
   ]
  },
  {
   "cell_type": "code",
   "execution_count": null,
   "id": "1c8d6bbc",
   "metadata": {},
   "outputs": [],
   "source": []
  },
  {
   "cell_type": "markdown",
   "id": "47b39497",
   "metadata": {},
   "source": [
    "# 72"
   ]
  },
  {
   "cell_type": "code",
   "execution_count": null,
   "id": "e5affa8d",
   "metadata": {},
   "outputs": [],
   "source": [
    "A={10,57,23,25,43}\n",
    "\n",
    "B={34,10,25,80}\n",
    "\n",
    "print(A-B)\n",
    "\n"
   ]
  },
  {
   "cell_type": "markdown",
   "id": "34b31f2e",
   "metadata": {},
   "source": [
    "# 73"
   ]
  },
  {
   "cell_type": "code",
   "execution_count": null,
   "id": "661b5166",
   "metadata": {},
   "outputs": [],
   "source": [
    "A={7,8,9}\n",
    "\n",
    "B={8,9,10}\n",
    "\n",
    "r=A.symmetric_difference(B)\n",
    "\n",
    "print(r)"
   ]
  },
  {
   "cell_type": "markdown",
   "id": "2324db24",
   "metadata": {},
   "source": [
    "# 74"
   ]
  },
  {
   "cell_type": "code",
   "execution_count": null,
   "id": "04bbd0f8",
   "metadata": {},
   "outputs": [],
   "source": [
    "A={7,8,19,56,44,64,23}\n",
    "\n",
    "B={8,19,10,56}\n",
    "\n",
    "C={6,77,43,23,64,56}\n",
    "\n",
    "A_in_B=A.intersection(B)\n",
    "\n",
    "print(A_in_B)\n",
    "\n",
    "\n",
    "B_un_C=B.union(C)\n",
    "\n",
    "print(B_un_C)\n",
    "\n",
    "C_diff_A=C.symmetric_difference(A)\n",
    "\n",
    "print(C_diff_A)\n",
    "\n"
   ]
  },
  {
   "cell_type": "markdown",
   "id": "37b24d58",
   "metadata": {},
   "source": [
    "# 75"
   ]
  },
  {
   "cell_type": "code",
   "execution_count": null,
   "id": "5291752d",
   "metadata": {},
   "outputs": [],
   "source": [
    "l1=[9,4,5,8,10]\n",
    "\n",
    "l2=[5,6,8,9]\n",
    "\n",
    "f=0\n",
    "\n",
    "subset=False\n",
    "\n",
    "for i in l2:\n",
    "    \n",
    "    if i in l1:\n",
    "        \n",
    "        subset=True\n",
    "        \n",
    "        \n",
    "if subset==False:\n",
    "    \n",
    "    print('l2 is not a subset  of l1')\n",
    "    \n",
    "else:\n",
    "    \n",
    "    print('l2 is a subset  of l1')\n",
    "        \n",
    "        "
   ]
  },
  {
   "cell_type": "code",
   "execution_count": null,
   "id": "bdd908b8",
   "metadata": {},
   "outputs": [],
   "source": []
  },
  {
   "cell_type": "markdown",
   "id": "885c7d41",
   "metadata": {},
   "source": [
    "# 76"
   ]
  },
  {
   "cell_type": "code",
   "execution_count": null,
   "id": "e6446358",
   "metadata": {},
   "outputs": [],
   "source": [
    "A={1,2,3,4,5,6}\n",
    "\n",
    "B={1,2,3}\n",
    "\n",
    "print(A>=B)"
   ]
  },
  {
   "cell_type": "markdown",
   "id": "2277229d",
   "metadata": {},
   "source": [
    "# 77"
   ]
  },
  {
   "cell_type": "code",
   "execution_count": null,
   "id": "e59ae7c2",
   "metadata": {},
   "outputs": [],
   "source": [
    "s={}\n",
    "s=set(s)\n",
    "\n",
    "for i in range(5):\n",
    "    n=int(input())\n",
    "    s.add(n)\n",
    "    \n",
    "l=len(s)\n",
    "\n",
    "print(f'number of eements : {l}')"
   ]
  },
  {
   "cell_type": "markdown",
   "id": "4f9d37c7",
   "metadata": {},
   "source": [
    "###### "
   ]
  },
  {
   "cell_type": "markdown",
   "id": "a61930b2",
   "metadata": {},
   "source": [
    "# 78"
   ]
  },
  {
   "cell_type": "code",
   "execution_count": null,
   "id": "08c51f9c",
   "metadata": {},
   "outputs": [],
   "source": [
    "n=int(input())\n",
    "\n",
    "sets=[34,56,22,46,88]\n",
    "\n",
    "sets=set(sets)\n",
    "\n",
    "if n in sets:\n",
    "    print(\"Found!\")\n",
    "else:\n",
    "   print(\"Not Found!\") \n"
   ]
  },
  {
   "cell_type": "markdown",
   "id": "48f5dfdd",
   "metadata": {},
   "source": [
    "# 79"
   ]
  },
  {
   "cell_type": "code",
   "execution_count": null,
   "id": "047c642a",
   "metadata": {},
   "outputs": [],
   "source": [
    "std={'Steven':45,'Any':5,'Daniel':21}\n",
    "\n",
    "if 'Kayle' not in std.keys():\n",
    "    std['Swatilekha']=15\n",
    "\n",
    "print(\"Before Update:\\n\",std)\n",
    "\n",
    "print(\"After Update:\\n\",std)\n",
    "\n",
    "std.update({\"Gwen\":3})\n",
    "\n",
    "print(std)"
   ]
  },
  {
   "cell_type": "markdown",
   "id": "40761eec",
   "metadata": {},
   "source": [
    "# 80"
   ]
  },
  {
   "cell_type": "code",
   "execution_count": null,
   "id": "20b28ca4",
   "metadata": {},
   "outputs": [],
   "source": [
    "emp={}\n",
    "\n",
    "for i in range(3):\n",
    "    \n",
    "    name=input('enter employee name:')\n",
    "    department=input('enter employee department:')\n",
    "    emp[name]= department\n",
    "    \n",
    "print(emp)\n",
    "\n",
    "print(\"Keys:\")\n",
    "\n",
    "for i,j in emp.items():\n",
    "    print(i)\n",
    "    \n",
    "print(\"Values:\")\n",
    "\n",
    "for i,j in emp.items():\n",
    "    print(j)"
   ]
  },
  {
   "cell_type": "markdown",
   "id": "043bbe18",
   "metadata": {},
   "source": [
    "# 81"
   ]
  },
  {
   "cell_type": "code",
   "execution_count": null,
   "id": "769fa749",
   "metadata": {},
   "outputs": [],
   "source": [
    "emp={'Engand':'Football','India':'Ha-Du-Du','Bangadesh':'ludu','Australia':'Cricket'}\n",
    "\n",
    "c=0\n",
    "\n",
    "for i,j in emp.items():\n",
    "    c+=1\n",
    "\n",
    "print('Number of Keys&Vaues: ',c)"
   ]
  },
  {
   "cell_type": "markdown",
   "id": "5fc6a388",
   "metadata": {},
   "source": [
    "# 82"
   ]
  },
  {
   "cell_type": "code",
   "execution_count": null,
   "id": "dab010d6",
   "metadata": {},
   "outputs": [],
   "source": [
    "dict={'coconut':120,'orange':300,'Apple':350,'Egg':150}\n",
    "\n",
    "n=150\n",
    "\n",
    "for k,v in dict.items():\n",
    "    \n",
    "    if v==n:\n",
    "        \n",
    "        print(k)\n",
    "        \n",
    "  \n",
    "\n",
    "    \n",
    "print()\n",
    "\n"
   ]
  },
  {
   "cell_type": "markdown",
   "id": "3c690a97",
   "metadata": {},
   "source": [
    "# 83"
   ]
  },
  {
   "cell_type": "code",
   "execution_count": null,
   "id": "e6af132f",
   "metadata": {},
   "outputs": [],
   "source": [
    "def Merge(d1,d2):\n",
    "    r=d1|d2\n",
    "    return r\n",
    "\n",
    "\n",
    "\n",
    "d1={'blood':'Red','Leaf':'Green','sky':'Blue'}\n",
    "\n",
    "d2={'Hair':'Black','Iris':'Grey','Peace':'White',''}\n",
    "\n",
    "d3=Merge(d1,d2)\n",
    "\n",
    "print(d3)"
   ]
  },
  {
   "cell_type": "markdown",
   "id": "911da8b4",
   "metadata": {},
   "source": [
    "# 84"
   ]
  },
  {
   "cell_type": "code",
   "execution_count": null,
   "id": "2a7ee0ea",
   "metadata": {},
   "outputs": [],
   "source": [
    "d1={'Beef':'1 kg','Chicken':'3 kg','Apple':'2 kg', 'Orange':'1.5 kg'}\n",
    "\n",
    "d1_t={}\n",
    "\n",
    "inp=input(\"Enter an item to delete:\")\n",
    "\n",
    "for k,v in d1.items():\n",
    "    \n",
    "    if k!=inp:\n",
    "        \n",
    "        d1_t[k]=v\n",
    "        \n",
    "print(d1_t)"
   ]
  },
  {
   "cell_type": "markdown",
   "id": "4301476f",
   "metadata": {},
   "source": [
    "# 85"
   ]
  },
  {
   "cell_type": "code",
   "execution_count": null,
   "id": "753c83a6",
   "metadata": {},
   "outputs": [],
   "source": [
    "d1={'Bina':25,'Diba':13,'Giyan':10, 'Nobita':9,'Suniyo':8}\n",
    "\n",
    "s_d1=sorted(d1.items(),key=lambda x1:x1[1])\n",
    "\n",
    "print(s_d1)\n"
   ]
  },
  {
   "cell_type": "markdown",
   "id": "84c19517",
   "metadata": {},
   "source": [
    "# 86"
   ]
  },
  {
   "cell_type": "code",
   "execution_count": null,
   "id": "23833124",
   "metadata": {},
   "outputs": [],
   "source": [
    "s=input()\n",
    "\n",
    "freq={}\n",
    "\n",
    "for i in s:\n",
    "    if i in freq:\n",
    "        freq[i]+=1\n",
    "    else:\n",
    "        freq[i]=1\n",
    "        \n",
    "print(freq)"
   ]
  },
  {
   "cell_type": "markdown",
   "id": "8b00b13b",
   "metadata": {},
   "source": [
    "# 87"
   ]
  },
  {
   "cell_type": "code",
   "execution_count": null,
   "id": "ccfa763f",
   "metadata": {},
   "outputs": [],
   "source": [
    "i=[2,4,5,6,7,8,10]\n",
    "\n",
    "sqd={}\n",
    "\n",
    "k=0\n",
    "\n",
    "for i1 in i:\n",
    "    \n",
    "    if i1 not in sqd:\n",
    "        \n",
    "        n=i1*i1\n",
    "        \n",
    "        sqd[i1]=n\n",
    "        \n",
    "        k+=1\n",
    "        \n",
    "print(sqd)\n",
    "        "
   ]
  },
  {
   "cell_type": "markdown",
   "id": "51a57727",
   "metadata": {},
   "source": [
    "# 88"
   ]
  },
  {
   "cell_type": "code",
   "execution_count": null,
   "id": "54a595d5",
   "metadata": {},
   "outputs": [],
   "source": [
    "inp=input('Input a key to search:')\n",
    "\n",
    "programming={'C':1976,'C++':1980,'Java':1991,'pythn':2000,'Pascal':1984}\n",
    "\n",
    "if inp in programming:\n",
    "    \n",
    "    print('found')\n",
    "    \n",
    "else:\n",
    "    print('not found')"
   ]
  },
  {
   "cell_type": "markdown",
   "id": "bb6f707d",
   "metadata": {},
   "source": [
    "# 89"
   ]
  },
  {
   "cell_type": "code",
   "execution_count": null,
   "id": "771d19ce",
   "metadata": {},
   "outputs": [],
   "source": [
    "std1={\n",
    "    'name':'Ena',\n",
    "    'age':27,\n",
    "    'address':'monipur'\n",
    "}\n",
    "\n",
    "std2={\n",
    "    'name':'Boby',\n",
    "    'age':17,\n",
    "    'address':'Hariyana'\n",
    "}\n",
    "\n",
    "std3={\n",
    "    'name':'Suri',\n",
    "    'age':24,\n",
    "    'address':'Texas'\n",
    "}\n",
    "\n",
    "std4={\n",
    "    'name':'Sunny',\n",
    "    'age':7,\n",
    "    'address':'Florida'\n",
    "}\n",
    "\n",
    "sch={\n",
    "    \n",
    "     'std1':std1,\n",
    "    \n",
    "     'std2':std2,\n",
    "    \n",
    "     'std3':std3,\n",
    "     'std4':std4\n",
    "    \n",
    "}\n",
    "\n",
    "print(sch['std2']['name'])\n",
    "\n",
    "print(sch['std2']['age'])\n",
    "\n",
    "print(sch['std2']['address'])"
   ]
  },
  {
   "cell_type": "markdown",
   "id": "eb9f1e68",
   "metadata": {},
   "source": [
    "# 90"
   ]
  },
  {
   "cell_type": "code",
   "execution_count": null,
   "id": "c04628dd",
   "metadata": {},
   "outputs": [],
   "source": [
    "chn={}\n",
    "\n",
    "\n",
    "std1={\n",
    "    'name':'Ena',\n",
    "    'age':27,\n",
    "    'address':'monipur'\n",
    "}\n",
    "\n",
    "std2={\n",
    "    'name':'Boby',\n",
    "    'age':17,\n",
    "    'address':'Hariyana'\n",
    "}\n",
    "\n",
    "std3={\n",
    "    'name':'Suri',\n",
    "    'age':24,\n",
    "    'address':'Texas'\n",
    "}\n",
    "\n",
    "std4={\n",
    "    'name':'Sunny',\n",
    "    'age':7,\n",
    "    'address':'Florida'\n",
    "}\n",
    "\n",
    "sch={\n",
    "    \n",
    "     'std1':std1,\n",
    "    \n",
    "     'std2':std2,\n",
    "    \n",
    "     'std3':std3,\n",
    "     'std4':std4\n",
    "    \n",
    "}\n",
    "\n",
    "c=0\n",
    "\n",
    "print('total number of key-value  pair:')\n",
    "\n",
    "for i in sch:\n",
    "    \n",
    "    a=sch[i]\n",
    "    \n",
    "    for k in range(len(a)):\n",
    "        c+=1\n",
    "        \n",
    "print(c)\n",
    "    \n",
    "        "
   ]
  },
  {
   "cell_type": "markdown",
   "id": "3c148ec8",
   "metadata": {},
   "source": [
    "# 91"
   ]
  },
  {
   "cell_type": "code",
   "execution_count": null,
   "id": "3228aa39",
   "metadata": {},
   "outputs": [],
   "source": [
    "emp1={\n",
    "    'id':'056545',\n",
    "    'salary':27000\n",
    "}\n",
    "\n",
    "emp2={\n",
    "    'id':'0053324',\n",
    "    'salary':56400\n",
    "}\n",
    "\n",
    "emp3={\n",
    "    'id':'340765',\n",
    "    'salary':24500\n",
    "}\n",
    "\n",
    "emp4={\n",
    "    'id':'231076',\n",
    "    'salary':73000\n",
    "}\n",
    "\n",
    "emp_inf={\n",
    "    \n",
    "     'emp1':emp1,\n",
    "    \n",
    "     'emp2':emp2,\n",
    "    \n",
    "     'emp3':emp3,\n",
    "     'emp4':emp4\n",
    "    \n",
    "}\n",
    "\n",
    "\n",
    "for i in emp_inf:\n",
    "    \n",
    "    a=emp_inf[i]\n",
    "    \n",
    "    if a['id']=='340765':\n",
    "        \n",
    "        a['salary']=657463\n",
    "        \n",
    "        emp_inf[i]= a['salary']\n",
    "        \n",
    "print(emp_inf)\n",
    "\n"
   ]
  },
  {
   "cell_type": "markdown",
   "id": "665e3594",
   "metadata": {},
   "source": [
    "# 92"
   ]
  },
  {
   "cell_type": "code",
   "execution_count": null,
   "id": "2761004e",
   "metadata": {},
   "outputs": [],
   "source": [
    "from collections import OrderedDict\n",
    "from operator import getitem\n",
    "\n",
    "\n",
    "p1={\n",
    "    'name':'fruits',\n",
    "    'price':2700,\n",
    "    'quantity':'1 kg'\n",
    "}\n",
    "\n",
    "p2={\n",
    "   'name':'protein',\n",
    "   'price':8560,\n",
    "   'quantity':'100 gm'\n",
    "}\n",
    "\n",
    "p3={\n",
    "    'name':'Chilli',\n",
    "    'price':5643,\n",
    "    'quantity':'5 kg'\n",
    "    \n",
    "}\n",
    "\n",
    "p4={\n",
    "    'name':'Drinks',\n",
    "    'price':10000,\n",
    "    'quantity':'10 litre'\n",
    "    \n",
    "}\n",
    "\n",
    "product_inf={\n",
    "    \n",
    "     'p1':p1,\n",
    "    \n",
    "     'p2':p2,\n",
    "    \n",
    "     'p3':p3,\n",
    "     'p4':p4\n",
    "    \n",
    "}\n",
    "\n",
    "\n",
    "r=OrderedDict(sorted(product_inf.items(), key = lambda x: getitem(x[1],'price')))\n",
    "\n",
    "print(r)"
   ]
  },
  {
   "cell_type": "markdown",
   "id": "e655a528",
   "metadata": {},
   "source": [
    "# 93"
   ]
  },
  {
   "cell_type": "code",
   "execution_count": null,
   "id": "130bac5f",
   "metadata": {},
   "outputs": [],
   "source": [
    "emp1={\n",
    "    'id':'056545',\n",
    "    'salary':27000\n",
    "}\n",
    "\n",
    "emp2={\n",
    "    'age':20,\n",
    "    'address':'Tokyo'\n",
    "}\n",
    "\n",
    "emp3={\n",
    "    'dob':'11/5/23',\n",
    "    'deparetment':'CSE'\n",
    "}\n",
    "\n",
    "\n",
    "emp_inf={\n",
    "    \n",
    "     'emp1':emp1,\n",
    "    \n",
    "     'emp2':emp2,\n",
    "    \n",
    "     'emp3':emp3\n",
    "    \n",
    "}\n",
    "\n",
    "n=input('Enter key :')\n",
    "\n",
    "f=0\n",
    "\n",
    "for i in emp_inf:\n",
    "    \n",
    "    a=emp_inf[i]\n",
    "    \n",
    "    if n in (a.keys()):\n",
    "        print('Key Found!!')\n",
    "        f=1\n",
    "        break\n",
    "        \n",
    "if f==0:\n",
    "    print('Key Not Found!!')"
   ]
  },
  {
   "cell_type": "markdown",
   "id": "2aa0d05f",
   "metadata": {},
   "source": [
    "# 94"
   ]
  },
  {
   "cell_type": "code",
   "execution_count": null,
   "id": "03184c32",
   "metadata": {},
   "outputs": [],
   "source": [
    "import math\n",
    "\n",
    "n=int(input())\n",
    "sqr=int(math.sqrt(n))\n",
    "f=0\n",
    "\n",
    "if n>2:\n",
    "    \n",
    "    for i in range(2,sqr+1):\n",
    "        if n%i==0:\n",
    "            print('not a prime number')\n",
    "            f=1\n",
    "            break\n",
    "    \n",
    "    if f==0:\n",
    "         print('prime number')\n",
    "        \n",
    "    \n",
    "elif n==2:\n",
    "    print('prime number')\n",
    "    \n",
    "else:\n",
    "    print('prime number')\n",
    "    "
   ]
  },
  {
   "cell_type": "markdown",
   "id": "7f1cca55",
   "metadata": {},
   "source": [
    "# 95"
   ]
  },
  {
   "cell_type": "code",
   "execution_count": null,
   "id": "1bfe7a59",
   "metadata": {},
   "outputs": [],
   "source": [
    "for i in range(1,21):\n",
    "    if i%2==0:\n",
    "        print(i,end=\" \")\n",
    "    else:\n",
    "        continue"
   ]
  },
  {
   "cell_type": "markdown",
   "id": "d03066a2",
   "metadata": {},
   "source": [
    "# 96"
   ]
  },
  {
   "cell_type": "code",
   "execution_count": null,
   "id": "26bb5b56",
   "metadata": {},
   "outputs": [],
   "source": [
    "\n",
    "\n",
    "while(1):\n",
    "    \n",
    "    password=input()\n",
    "    l=len(password)\n",
    "    \n",
    "    up=0\n",
    "    \n",
    "    low=0\n",
    "    \n",
    "    digit=0\n",
    "    \n",
    "    for i in range(l):\n",
    "        \n",
    "        if password[i].isupper():\n",
    "            up=1\n",
    "        \n",
    "        if password[i].islower():\n",
    "            low=1\n",
    "            \n",
    "        if password[i].isdigit():\n",
    "            digit=1\n",
    "            \n",
    "        \n",
    "    if l>=8:\n",
    "        if up==1:\n",
    "            if low==1:\n",
    "                if digit==1:\n",
    "                    print('password accepted!')\n",
    "                    break\n",
    "    else:\n",
    "        continue"
   ]
  },
  {
   "cell_type": "markdown",
   "id": "8dd90396",
   "metadata": {},
   "source": [
    "# 97"
   ]
  },
  {
   "cell_type": "code",
   "execution_count": null,
   "id": "1453f905",
   "metadata": {},
   "outputs": [],
   "source": [
    "for i in range(1,51):\n",
    "    if i%3!=0:\n",
    "        if i%5!=0:\n",
    "            continue\n",
    "            \n",
    "        else:\n",
    "            print(i,end=' ')\n",
    "        \n",
    "         \n",
    "    else:\n",
    "        print(i,end=' ')\n",
    "    "
   ]
  },
  {
   "cell_type": "markdown",
   "id": "d719510f",
   "metadata": {},
   "source": [
    "# 98"
   ]
  },
  {
   "cell_type": "code",
   "execution_count": null,
   "id": "d4062f9a",
   "metadata": {},
   "outputs": [],
   "source": [
    "s=0\n",
    "\n",
    "while(1):\n",
    "    n=int(input())\n",
    "    \n",
    "    if n<0:\n",
    "        break\n",
    "        \n",
    "    else:\n",
    "        s=s+n\n",
    "        \n",
    "print(s)"
   ]
  },
  {
   "cell_type": "markdown",
   "id": "7a5ba8bc",
   "metadata": {},
   "source": [
    "# 99"
   ]
  },
  {
   "cell_type": "code",
   "execution_count": null,
   "id": "deb303bd",
   "metadata": {},
   "outputs": [],
   "source": [
    "while(1):\n",
    "\n",
    "    xs=input()\n",
    "    \n",
    "    if len(xs)<3:\n",
    "        continue\n",
    "    else:\n",
    "\n",
    "        w=''\n",
    "\n",
    "        for i in xs:\n",
    "            w=i+w\n",
    "\n",
    "        if xs==w:\n",
    "            print('paindrome')\n",
    "        else:\n",
    "             print('Not a paindrome')"
   ]
  },
  {
   "cell_type": "markdown",
   "id": "a12cb3b8",
   "metadata": {},
   "source": [
    "# 100"
   ]
  },
  {
   "cell_type": "code",
   "execution_count": null,
   "id": "518f6e7c",
   "metadata": {},
   "outputs": [],
   "source": [
    "dd=[22,56,14,3,67,84,85,43]\n",
    "\n",
    "for i in dd:\n",
    "    if i%2!=0:\n",
    "        print(f'First odd number is {i}')\n",
    "        break"
   ]
  },
  {
   "cell_type": "markdown",
   "id": "53e0173a",
   "metadata": {},
   "source": [
    "# 101"
   ]
  },
  {
   "cell_type": "code",
   "execution_count": null,
   "id": "ae2e5263",
   "metadata": {},
   "outputs": [],
   "source": [
    "import random\n",
    "\n",
    "n=random.randrange(1,100)\n",
    "\n",
    "while(1):\n",
    "    \n",
    "    g=int(input('Enter any number to guess'))\n",
    "    \n",
    "    if g<n:\n",
    "        \n",
    "        print('too small, guess again')\n",
    "        \n",
    "        continue\n",
    "        \n",
    "    elif g>n:\n",
    "        \n",
    "        print('too big,guess again')\n",
    "        \n",
    "        continue\n",
    "        \n",
    "    else:\n",
    "        \n",
    "        print('You guesses it Right!!')\n",
    "        \n",
    "        break\n",
    "        \n",
    "    \n",
    "    "
   ]
  },
  {
   "cell_type": "markdown",
   "id": "3933857b",
   "metadata": {},
   "source": [
    "# 102"
   ]
  },
  {
   "cell_type": "code",
   "execution_count": null,
   "id": "dc08c4ca",
   "metadata": {},
   "outputs": [],
   "source": [
    "s=input()\n",
    "\n",
    "n=len(s)\n",
    "\n",
    "d={}\n",
    "\n",
    "t=0\n",
    "\n",
    "v=['a','e','i','o','u']\n",
    "\n",
    "for i in s:\n",
    "    \n",
    "    if i in v:\n",
    "        \n",
    "        if i in d:\n",
    "        \n",
    "            d[i]+=1\n",
    "            \n",
    "        if i not in d:\n",
    "            \n",
    "            d[i]=1\n",
    "    else:\n",
    "        \n",
    "        continue\n",
    "            \n",
    "for k,v in d.items():\n",
    "    print(\"%s : %d \" % (k,v))\n",
    "        \n",
    "print(d)\n",
    "    "
   ]
  },
  {
   "cell_type": "markdown",
   "id": "868ee544",
   "metadata": {},
   "source": [
    "# 103"
   ]
  },
  {
   "cell_type": "code",
   "execution_count": null,
   "id": "3a24037b",
   "metadata": {},
   "outputs": [],
   "source": [
    "s=input()\n",
    "\n",
    "d={}\n",
    "\n",
    "t=0\n",
    "\n",
    "for i in s:\n",
    "        \n",
    "    if i in d:\n",
    "        t=1\n",
    "        print('Repeating character..............')\n",
    "        \n",
    "        break\n",
    "            \n",
    "    if i not in d:\n",
    "            \n",
    "        d[i]=1\n",
    "        \n",
    "        continue\n",
    "if t==0:\n",
    "    \n",
    "    print('Unique character')"
   ]
  },
  {
   "cell_type": "markdown",
   "id": "89d382a2",
   "metadata": {},
   "source": [
    "# 104"
   ]
  },
  {
   "cell_type": "code",
   "execution_count": null,
   "id": "05ec081e",
   "metadata": {},
   "outputs": [],
   "source": [
    "def fact(n):\n",
    "    return 1 if (n==1 or n==0) else n*fact(n-1)\n",
    "\n",
    "\n",
    "n=int(input())\n",
    "\n",
    "print('factorial',n,'is',fact(n))"
   ]
  },
  {
   "cell_type": "markdown",
   "id": "9ebc5d8d",
   "metadata": {},
   "source": [
    "# 105"
   ]
  },
  {
   "cell_type": "code",
   "execution_count": null,
   "id": "1742ef07",
   "metadata": {},
   "outputs": [],
   "source": [
    "def pndm(s):\n",
    "    \n",
    "    return s==s[::-1]\n",
    "\n",
    "s=input()\n",
    "\n",
    "ans=pndm(s)\n",
    "\n",
    "if ans:\n",
    "    print('Palindrome')\n",
    "    \n",
    "else:\n",
    "    print('Not a Palindrome')"
   ]
  },
  {
   "cell_type": "markdown",
   "id": "5ce476c9",
   "metadata": {},
   "source": [
    "# 106"
   ]
  },
  {
   "cell_type": "code",
   "execution_count": null,
   "id": "1400f9b9",
   "metadata": {},
   "outputs": [],
   "source": [
    "def even_odd(n):\n",
    "    if n%2==0:\n",
    "        v='even'\n",
    "        return v\n",
    "    else:\n",
    "        v='odd'\n",
    "        return v\n",
    "    \n",
    "n=int(input())\n",
    "\n",
    "v=even_odd(n)\n",
    "\n",
    "print(v)"
   ]
  },
  {
   "cell_type": "markdown",
   "id": "e561fa22",
   "metadata": {},
   "source": [
    "# 107"
   ]
  },
  {
   "cell_type": "code",
   "execution_count": null,
   "id": "0ba43dee",
   "metadata": {},
   "outputs": [],
   "source": [
    "def list_sum(t):\n",
    "    s=0\n",
    "    for i in range(len(t)):\n",
    "        \n",
    "        s=s+t[i]\n",
    "        \n",
    "    return s\n",
    "\n",
    "\n",
    "t=[4,6,7,8,2]\n",
    "\n",
    "s= list_sum(t)\n",
    "\n",
    "print(s)"
   ]
  },
  {
   "cell_type": "markdown",
   "id": "09341354",
   "metadata": {},
   "source": [
    "# 108"
   ]
  },
  {
   "cell_type": "code",
   "execution_count": null,
   "id": "1a8520db",
   "metadata": {},
   "outputs": [],
   "source": [
    "def gcd (a,b):\n",
    "    \n",
    "    if b==0:\n",
    "        \n",
    "        return abs(a)\n",
    "    else:\n",
    "        return gcd(b,a%b)\n",
    "    \n",
    "a=int(input())\n",
    "\n",
    "b=int(input())\n",
    "\n",
    "print(gcd(a,b))"
   ]
  },
  {
   "cell_type": "markdown",
   "id": "b274768d",
   "metadata": {},
   "source": [
    "# 109"
   ]
  },
  {
   "cell_type": "code",
   "execution_count": null,
   "id": "2f864982",
   "metadata": {},
   "outputs": [],
   "source": [
    "def is_leap_year(y):\n",
    "    if (y%400==0) and (y%100==0):\n",
    "        \n",
    "        return True\n",
    "    elif(y%4==0) and (y%100!=0):\n",
    "        return True\n",
    "    else:\n",
    "        return False\n",
    "    \n",
    "y=int(input())\n",
    "\n",
    "\n",
    "print(is_leap_year(y))"
   ]
  },
  {
   "cell_type": "markdown",
   "id": "5eeb2b26",
   "metadata": {},
   "source": [
    "# 110"
   ]
  },
  {
   "cell_type": "code",
   "execution_count": null,
   "id": "064fdbdd",
   "metadata": {},
   "outputs": [],
   "source": [
    "def math_operations(a,b,c,d):\n",
    "    \n",
    "    def add(a,b,c):\n",
    "        \n",
    "        return a+b+c\n",
    "    \n",
    "    def subtract(a,b,c):\n",
    "        return a-b-c\n",
    "    \n",
    "    def mutiply(a,b,c):\n",
    "        return a*b*c\n",
    "    \n",
    "    def divide(a,b,c):\n",
    "        return a/b/c\n",
    "    \n",
    "    \n",
    "    if d=='add':\n",
    "        r=add(a,b,c) \n",
    "        return r\n",
    "    \n",
    "    if d=='subtract':\n",
    "        sub=subtract(a,b,c) \n",
    "        return sub\n",
    "     \n",
    "    if d=='multiply':\n",
    "        m=multiply(a,b,c)\n",
    "        return m\n",
    "        \n",
    "     \n",
    "    if d=='divide':\n",
    "        d=divide(a,b,c)\n",
    "        return d\n",
    "    \n",
    "\n",
    "a=int(input())\n",
    "b=int(input())\n",
    "c=int(input())\n",
    "d=(input())\n",
    "\n",
    "print(math_operations(a,b,c,d))\n"
   ]
  },
  {
   "cell_type": "markdown",
   "id": "403fff97",
   "metadata": {},
   "source": [
    "# 111"
   ]
  },
  {
   "cell_type": "code",
   "execution_count": null,
   "id": "6a5ac419",
   "metadata": {},
   "outputs": [],
   "source": [
    "def greeting_generator(s):\n",
    "    \n",
    "    def nstd(s):\n",
    "        \n",
    "        print (f'Hello,{s}!! How are you today??')\n",
    "    \n",
    "    nstd(s)\n",
    "        \n",
    "\n",
    "        \n",
    "s=input ()       \n",
    "greeting_generator(s)\n",
    "\n"
   ]
  },
  {
   "cell_type": "markdown",
   "id": "af673636",
   "metadata": {},
   "source": [
    "# 112"
   ]
  },
  {
   "cell_type": "code",
   "execution_count": null,
   "id": "05aee49c",
   "metadata": {},
   "outputs": [],
   "source": [
    "def temperature_converter(t,c):\n",
    "    \n",
    "    def tmp(t):\n",
    "        \n",
    "        f=t*(9/5)+32\n",
    "        \n",
    "        return f\n",
    "    \n",
    "    def tmpc(t):\n",
    "        \n",
    "        c=(t-32)*(5/9)\n",
    "        \n",
    "        return c\n",
    "    \n",
    "    \n",
    "    if c=='C':\n",
    "        \n",
    "        f=tmp(t)\n",
    "        return f\n",
    "            \n",
    "    elif c=='F':\n",
    "        t2=tmpc(t)\n",
    "        return t2\n",
    "    \n",
    "\n",
    "num=float(input('enter temperature:'))\n",
    "\n",
    "degree=input('enter C for celcius and F for farenhite')\n",
    "temperature_converter(num,degree)"
   ]
  },
  {
   "cell_type": "markdown",
   "id": "1605413d",
   "metadata": {},
   "source": [
    "# 113"
   ]
  },
  {
   "cell_type": "code",
   "execution_count": null,
   "id": "374416cd",
   "metadata": {},
   "outputs": [],
   "source": [
    "def factorial (n):\n",
    "    \n",
    "    if n==0 or n==1:\n",
    "        \n",
    "        return 1\n",
    "    else:\n",
    "        \n",
    "        return n*factorial(n-1)\n",
    "    \n",
    "n=int(input())\n",
    "\n",
    "print(factorial (n))"
   ]
  },
  {
   "cell_type": "markdown",
   "id": "d16120e8",
   "metadata": {},
   "source": [
    "# 114"
   ]
  },
  {
   "cell_type": "code",
   "execution_count": null,
   "id": "9d268b1b",
   "metadata": {},
   "outputs": [],
   "source": [
    "def fibonacci (n):\n",
    "    if n<=1:\n",
    "        return n\n",
    "    else:\n",
    "        return fibonacci(n-1)+fibonacci(n-2)\n",
    "    \n",
    "n=int(input('enter N:'))\n",
    "\n",
    "fib=[]\n",
    "\n",
    "for i in range(n):\n",
    "    \n",
    "    fib.append(fibonacci(i))\n",
    "    \n",
    "print(fib[len(fib)-1])\n",
    "    "
   ]
  },
  {
   "cell_type": "markdown",
   "id": "9123e588",
   "metadata": {},
   "source": [
    "# 115"
   ]
  },
  {
   "cell_type": "code",
   "execution_count": null,
   "id": "7a90490c",
   "metadata": {},
   "outputs": [],
   "source": [
    "def sum_of_digits(n):\n",
    "    \n",
    "    if n==0:\n",
    "        return 0\n",
    "    \n",
    "    return (n%10 + sum_of_digits(n/10))\n",
    "            \n",
    "n=int(input())\n",
    "            \n",
    "r= sum_of_digits(n)        \n",
    "print(int(r))           "
   ]
  },
  {
   "cell_type": "markdown",
   "id": "56c6dfc6",
   "metadata": {},
   "source": [
    "# 116\n"
   ]
  },
  {
   "cell_type": "code",
   "execution_count": null,
   "id": "0f06b624",
   "metadata": {},
   "outputs": [],
   "source": [
    "def binary_search(arr,low,high,x):\n",
    "    \n",
    "    if high>=low:\n",
    "        \n",
    "        mid=( high+low)//2\n",
    "        \n",
    "        if arr[mid]==x:\n",
    "            \n",
    "            return mid\n",
    "        elif arr[mid]>x:\n",
    "            return binary_search(arr,low,mid-1,x)\n",
    "        else:\n",
    "             return binary_search(arr,mid+1,high,x)\n",
    "            \n",
    "    else:\n",
    "        return -1\n",
    "    \n",
    "arr=[5,8,9,12,18,27,33,47]\n",
    "\n",
    "x=18\n",
    "\n",
    "r=binary_search(arr,0,len(arr)-1,x)\n",
    "\n",
    "if r!=1:\n",
    "    \n",
    "    print(f'element is found at {r}th index')\n",
    "    \n",
    "else:\n",
    "    \n",
    "    print(f'element is not found!')\n",
    "    \n",
    "    "
   ]
  },
  {
   "cell_type": "markdown",
   "id": "76db3b8b",
   "metadata": {},
   "source": [
    "# 117"
   ]
  },
  {
   "cell_type": "code",
   "execution_count": null,
   "id": "bd9833d6",
   "metadata": {},
   "outputs": [],
   "source": [
    "def power (b,e):\n",
    "    \n",
    "    x=1\n",
    "    \n",
    "    for i in range(e):\n",
    "        \n",
    "        x=x*b\n",
    "        \n",
    "    return x\n",
    "\n",
    "print(power(8,3))"
   ]
  },
  {
   "cell_type": "code",
   "execution_count": null,
   "id": "6da6b412",
   "metadata": {},
   "outputs": [],
   "source": []
  }
 ],
 "metadata": {
  "kernelspec": {
   "display_name": "Python 3 (ipykernel)",
   "language": "python",
   "name": "python3"
  },
  "language_info": {
   "codemirror_mode": {
    "name": "ipython",
    "version": 3
   },
   "file_extension": ".py",
   "mimetype": "text/x-python",
   "name": "python",
   "nbconvert_exporter": "python",
   "pygments_lexer": "ipython3",
   "version": "3.10.9"
  }
 },
 "nbformat": 4,
 "nbformat_minor": 5
}
